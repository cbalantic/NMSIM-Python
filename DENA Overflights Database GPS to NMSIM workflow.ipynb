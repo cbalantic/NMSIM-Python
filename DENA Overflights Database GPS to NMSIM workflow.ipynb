{
 "cells": [
  {
   "cell_type": "markdown",
   "metadata": {},
   "source": [
    "# We know *where aircraft flew.*  What were their acoustic properties on the ground?\n",
    "\n",
    "Current issues: https://github.com/dbetchkal/NMSIM-Python/issues"
   ]
  },
  {
   "cell_type": "code",
   "execution_count": null,
   "metadata": {},
   "outputs": [],
   "source": [
    "# this module contains a list of libraries, functions, and global constants used in this workbook\n",
    "# import everything using wildcard (*)\n",
    "from NMSIM_DENA_Flight_Tracks import *"
   ]
  },
  {
   "cell_type": "markdown",
   "metadata": {},
   "source": [
    "#### <font color=\"gray\">Reference *[Optional]:*</font> using `iyore` what sites were deployed concurrent to GPS data collection?\n",
    " <font color=\"gray\">Use this cell if you need a refresher on the available sites.</font>"
   ]
  },
  {
   "cell_type": "code",
   "execution_count": null,
   "metadata": {},
   "outputs": [],
   "source": [
    "# find Denali sites from 2019, 2020\n",
    "np.unique([e.site for e in archive.dataDir(unit=\"DENA\", year=[\"2019\", \"2020\"])])"
   ]
  },
  {
   "cell_type": "markdown",
   "metadata": {},
   "source": [
    "## Step 1: Select GPS points, convert to NMSIM trajectories *(.trj)*\n",
    "**Also create an NMSIM *.sit* file!** <br><br>\n",
    "Given\n",
    ">NPS monitoring site <br>\n",
    ">year <br>\n",
    ">how far away are you interested in vehicle motion (kilometers) <br>\n",
    "\n",
    "#### <font color=salmon size=4>You must edit lines 3 - 5.</font>"
   ]
  },
  {
   "cell_type": "code",
   "execution_count": null,
   "metadata": {
    "scrolled": true
   },
   "outputs": [],
   "source": [
    "# =============  EDIT  =====================================================\n",
    "#   DEFINE THE PROJECT DIRECTORY and YEAR\n",
    "project_dir = r\"J:\\Sound\\NMSIm_Projects\\DENAUWBT\"\n",
    "year = 2017\n",
    "how_far_away = 5 # km\n",
    "# ==========================================================================\n",
    "\n",
    "# extract the site name from the project directory path\n",
    "site = project_dir[-4:]\n",
    "\n",
    "# create a table of all the flights\n",
    "tracks = tracks_within(archive, site, year, \n",
    "                       search_within_km = how_far_away, \n",
    "                       aircraft_specs=False,\n",
    "                       NMSIM_proj_dir = project_dir,\n",
    "                       decouple=False)\n",
    "\n",
    "# which N-Numbers were observed on this record?\n",
    "tracks.registration.unique()"
   ]
  },
  {
   "cell_type": "markdown",
   "metadata": {},
   "source": [
    "## Step 2: Run the models in NMSIM\n",
    "#### <font color=salmon>Repeat for each N-Number of interest, *then* proceed to the next cell.</font>"
   ]
  },
  {
   "cell_type": "code",
   "execution_count": null,
   "metadata": {},
   "outputs": [],
   "source": [
    "# ============= EDIT ===================================================\n",
    "\n",
    "# FAA registry for aircraft of interest\n",
    "Focal_NNumber = \"N619CH\"\n",
    "\n",
    "# ======================================================================\n",
    "\n",
    "# determine the location of the NMSIM program directiory\n",
    "path_to_this_notebook = !echo %cd%\n",
    "NMSIMpath =  path_to_this_notebook[0] + os.sep + \"NMSIM\"\n",
    "\n",
    "# lookup for appropriate NMSIM source file\n",
    "source_map = {\"N8888\": NMSIMpath + os.sep + \"Sources\\MiscellaneousSources\\omni.src\",\n",
    "              \"N709M\": NMSIMpath + os.sep + \"Sources\\AirTourFixedWingSources\\C182.src\",\n",
    "             \"N570AE\": NMSIMpath + os.sep + \"Sources\\AirTourHelicopterSources\\AS350.src\",\n",
    "              \"N74PS\": NMSIMpath + os.sep + \"Sources\\AirTourFixedWingSources\\C207.src\",\n",
    "             \"N619CH\": NMSIMpath + os.sep +  \"Sources\\AirTourFixedWingSources\\C207.src\",\n",
    "             \"N72309\": NMSIMpath + os.sep + \"Sources\\AirTourFixedWingSources\\C207.src\",\n",
    "             \"N72395\": NMSIMpath + os.sep + \"Sources\\AirTourFixedWingSources\\C207.src\",\n",
    "             \"N473YC\": NMSIMpath + os.sep + \"Sources\\AirTourFixedWingSources\\C207.src\",\n",
    "             \"N21HY\":  NMSIMpath + os.sep + \"Sources\\AirTourFixedWingSources\\C182.src\"}\n",
    "\n",
    "\n",
    "# run the NMSIM model\n",
    "NMSIM_create_tis(project_dir, source_map[Focal_NNumber], Nnumber=Focal_NNumber)"
   ]
  },
  {
   "cell_type": "markdown",
   "metadata": {},
   "source": [
    "## Step 3: Pair NMSIM results to NPS acoustic measurements"
   ]
  },
  {
   "cell_type": "code",
   "execution_count": null,
   "metadata": {
    "scrolled": false
   },
   "outputs": [],
   "source": [
    "# NMSIM isn't always successful - we want to iterate only through files that WERE created\n",
    "trj_and_tis = pair_trj_to_tis_results(project_dir)\n",
    "\n",
    "# (whether or not to show diagnostic plots; default: False)\n",
    "diagnostic = False\n",
    "\n",
    "for trj, tis in trj_and_tis:\n",
    "    \n",
    "    print(trj, \"\\n\", tis)\n",
    "    \n",
    "    runName = os.path.basename(trj)[:-4]\n",
    "    \n",
    "    # read just the header of the trajectory\n",
    "    with open(trj) as lines:\n",
    "        head = [next(lines) for x in range(12)]\n",
    "\n",
    "    # here's the string containing the starting time (to the second!)\n",
    "    dateString = head[-1][-24:-5]\n",
    "\n",
    "    # convert to a datetime object\n",
    "    startdate = dt.datetime.strptime(dateString, \"%Y-%m-%d %H:%M:%S\")\n",
    "\n",
    "    print(\"now working on run:\", runName)\n",
    "    \n",
    "    try:\n",
    "        # this is the theoretical 1/3rd octave band trace\n",
    "        theory = tis_resampler(tis, startdate)\n",
    "        \n",
    "    except:\n",
    "        print(\"tis\", tis)\n",
    "        print(\"produced a ValueError related to nan values in the .tis file\")\n",
    "    \n",
    "    try:\n",
    "    \n",
    "        # compare and save results\n",
    "        event_SPL = NVSPL_to_match_tis(archive, project_dir, \n",
    "                                       startdate, theory, trj, \n",
    "                                       unit=\"DENA\", site=site, year=int(startdate.year),\n",
    "                                       utc_offset=-8, pad_length=5)\n",
    "        \n",
    "    except AttributeError: \n",
    "        \n",
    "        # sometimes there are gaps in the record that would 'appear' to be computable\n",
    "        # ... but aren't... \n",
    "        print(\"Trajectory has no matching acoustic data!\")\n",
    "    \n",
    "    # show diagnostic plots\n",
    "    if(diagnostic == True):\n",
    "        \n",
    "        plt.figure(figsize=(14, 3))\n",
    "        plt.plot(theory.index, theory[\"A\"], zorder=5, ls=\"\", marker=\"o\", ms=2)\n",
    "        plt.legend(loc=\"best\")\n",
    "        plt.show()"
   ]
  }
 ],
 "metadata": {
  "kernelspec": {
   "display_name": "Python 3",
   "language": "python",
   "name": "python3"
  },
  "language_info": {
   "codemirror_mode": {
    "name": "ipython",
    "version": 3
   },
   "file_extension": ".py",
   "mimetype": "text/x-python",
   "name": "python",
   "nbconvert_exporter": "python",
   "pygments_lexer": "ipython3",
   "version": "3.8.5"
  }
 },
 "nbformat": 4,
 "nbformat_minor": 4
}
